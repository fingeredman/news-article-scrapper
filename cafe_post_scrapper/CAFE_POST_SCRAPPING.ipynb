{
 "cells": [
  {
   "cell_type": "markdown",
   "metadata": {},
   "source": [
    "# `TEANAPS` NEWS ARTICLE SCRAPPER\n",
    "- 본 자료는 텍스트 마이닝을 활용한 연구 및 강의를 위한 목적으로 제작되었습니다.\n",
    "- 본 자료를 강의 목적으로 활용하고자 하시는 경우 꼭 아래 메일주소로 연락주세요.\n",
    "- 본 자료에 대한 허가되지 않은 배포를 금지합니다.\n",
    "- 강의, 저작권, 출판, 특허, 공동저자에 관련해서는 문의 바랍니다.\n",
    "- **Contact : ADMIN(admin@teanaps.com)**\n",
    "\n",
    "---"
   ]
  },
  {
   "cell_type": "markdown",
   "metadata": {},
   "source": [
    "> **\\*\\*\\* 주의사항 \\*\\*\\***  \n",
    "본 자료에서 설명하는 웹크롤링하는 방법은 해당 기법에 대한 이해를 돕고자하는 교육과 이를 활용한 연구 목적으로 사용되었으며, 대량의 무단 크롤링 및 상업적 활용을 금합니다."
   ]
  },
  {
   "cell_type": "markdown",
   "metadata": {},
   "source": [
    "## 1. 데이터 수집 준비하기"
   ]
  },
  {
   "cell_type": "markdown",
   "metadata": {},
   "source": [
    "### 1-1. Selenium 라이브러리 설치"
   ]
  },
  {
   "cell_type": "code",
   "execution_count": 1,
   "metadata": {},
   "outputs": [],
   "source": [
    "# 가상의 브라우저를 컨트롤 할 수 있도록 도와주는 selenium 패키지를 설치합니다.\n",
    "# 아래 주석을 해지하고 셀을 실행합니다.\n",
    "# 설치는 한번만 수행하면 되며, 재설치시 Requirement already satisfied: ~ 라는 메시지가 출력됩니다.\n",
    "\n",
    "#!pip install selenium"
   ]
  },
  {
   "cell_type": "markdown",
   "metadata": {},
   "source": [
    "### 1-2. Chrome Driver 다운로드 및 경로설정\n",
    "\n",
    "- Chrome Driver 다운로드 URL : http://chromedriver.chromium.org/downloads"
   ]
  },
  {
   "cell_type": "code",
   "execution_count": 2,
   "metadata": {},
   "outputs": [],
   "source": [
    "# 본 Jupyter Notebook 파일과 동일한 경로에 Chrome Driver가 존재하는 경우 아래 경로를 그대로 사용합니다.\n",
    "\n",
    "# Windows 운영체제\n",
    "#DRIVER_PATH = \"chromedriver.exe\"\n",
    "\n",
    "# MAC, Linux 운영체제\n",
    "# - 경고메시지 출력 시 보안 및 개인정보보호 메뉴에서 \"확인없이 허용\" 클릭 필요함\n",
    "DRIVER_PATH = \"./chromedriver\""
   ]
  },
  {
   "cell_type": "markdown",
   "metadata": {},
   "source": [
    "### 1-3. 라이브러리 Import 및 Chrome Driver 실행"
   ]
  },
  {
   "cell_type": "code",
   "execution_count": 3,
   "metadata": {},
   "outputs": [],
   "source": [
    "# Python 코드를 통해 가상의 브라우저를 띄우기 위해 selenium 패키지를 import 합니다.\n",
    "import selenium\n",
    "from selenium import webdriver\n",
    "from selenium.webdriver.common.by import By\n",
    "\n",
    "# selenium을 활용해 브라우저를 직접 띄우는 경우, 실제 웹서핑을 할때처럼 로딩시간이 필요합니다.\n",
    "# 로딩시간 동안 대기하도록 코드를 구성하기위해 time 패키지를 import 합니다.\n",
    "import time\n",
    "\n",
    "# Python 코드를 통해 웹페이지에 정보를 요청하기 위해 BeautifulSoup, urllib 패키지를 import 합니다.\n",
    "from bs4 import BeautifulSoup\n",
    "import requests"
   ]
  },
  {
   "cell_type": "code",
   "execution_count": 4,
   "metadata": {},
   "outputs": [],
   "source": [
    "# 브라우저에 임의로 User-agent 옵션을 넣어 Python 코드로 접속함을 숨깁니다.\n",
    "chrome_options = webdriver.ChromeOptions()\n",
    "chrome_options.add_argument('--user-agent=\"Mozilla/5.0 (Macintosh; Intel Mac OS X 10_13_4) AppleWebKit/537.36 (KHTML, like Gecko) Chrome/66.0.3359.139 Safari/537.36\"')\n",
    "# Chrome Driver를 호출합니다.\n",
    "driver = webdriver.Chrome(executable_path = DRIVER_PATH, options=chrome_options)"
   ]
  },
  {
   "cell_type": "markdown",
   "metadata": {},
   "source": [
    "## 2. 카페 게시글 및 댓글 수집하기\n",
    "\n",
    "---"
   ]
  },
  {
   "cell_type": "markdown",
   "metadata": {},
   "source": [
    "### 2-1. 카페 검색결과 정보 입력"
   ]
  },
  {
   "cell_type": "code",
   "execution_count": 5,
   "metadata": {},
   "outputs": [],
   "source": [
    "# 수집할 카페 검색결과 정보를 입력합니다.\n",
    "                                  # 네이버 카페에서 게시글을 검색하고 검색결과 URL을 입력합니다.\n",
    "                                  # URL은 네이버 카페에서 게시글 검색 후 검색결과 페이지 번호의 링크를 복사하여 찾을 수 있습니다.\n",
    "                                  # 전체 URL에서 맨 뒤 페이지 번호는 제거하고 입력합니다. (URL = \"~search.page=\")\n",
    "URL = \"https://cafe.naver.com/dieselmania?iframe_url=/ArticleSearchList.nhn%3Fsearch.clubid=11262350%26search.media=0%26search.searchdate=all%26userDisplay=15%26search.option=0%26search.sortBy=date%26search.searchBy=0%26search.query=%C3%BB%B9%D9%C1%F6%26search.viewtype=title%26search.page=\"\n",
    "PAGE_LIMIT = 3                    # 검색결과 중 수집할 최대 페이지 수를 입력합니다. (검색결과 페이지 수 보다 적게 입력)\n",
    "POST_LIMIT = 5                    # 수집할 최대 게시글 수를 입력합니다.\n",
    "SAVE_FILENAME = \"cafe_post.txt\"   # 수집결과를 저장할 파일명을 입력합니다."
   ]
  },
  {
   "cell_type": "markdown",
   "metadata": {},
   "source": [
    "### 2-2. 검색결과 게시글 URL 수집"
   ]
  },
  {
   "cell_type": "code",
   "execution_count": 6,
   "metadata": {},
   "outputs": [
    {
     "name": "stderr",
     "output_type": "stream",
     "text": [
      "<ipython-input-6-e015faad37a6>:9: DeprecationWarning: use driver.switch_to.frame instead\n",
      "  driver.switch_to_frame(driver.find_element(By.NAME, \"cafe_main\"))\n",
      "<ipython-input-6-e015faad37a6>:24: DeprecationWarning: use driver.switch_to.default_content instead\n",
      "  driver.switch_to_default_content()\n"
     ]
    }
   ],
   "source": [
    "# 수집할 카페 게시물의 링크주소를 저장할 리스트를 생성합니다.\n",
    "post_list = []\n",
    "\n",
    "# FOR 문을 활용해 페이지 번호를 반복합니다.\n",
    "for page_num in range(1, PAGE_LIMIT+1):\n",
    "    # 검색결과 페이지로 이동합니다.\n",
    "    driver.get(URL + str(page_num))\n",
    "    # 페이지에서 게시물 리스트가 포함된 프레임으로 이동합니다.\n",
    "    driver.switch_to_frame(driver.find_element(By.NAME, \"cafe_main\"))\n",
    "    # 게시물 태그를 모두 불러옵니다.\n",
    "    elem = driver.find_elements(By.CLASS_NAME, \"article\")\n",
    "    for e in elem:\n",
    "        # 웹페이지의 하이퍼링크 URL은 항상 href 속성에 존재합니다.\n",
    "        # href 속성에 저장된 URL을 불러와 post_list에 추가합니다.\n",
    "        post_list.append(e.get_attribute(\"href\"))\n",
    "    # 아래 주석부분은 위 25~29번째 라인과 동일한 코드입니다.\n",
    "    # 혹시 post_list에 URL이 저장되지 않는 경우 아래처럼 태그의 Class 속성을 \"article\"에서 \"aaa\"로 변경해줍니다.\n",
    "    '''\n",
    "    elem = driver.find_elements(By.CLASS_NAME, \"aaa\")\n",
    "    for e in elem:\n",
    "        post_list.append(e.find_element(By.TAG_NAME, \"a\").get_attribute(\"href\"))\n",
    "    '''\n",
    "    # 페이지의 기본 프레임으로 이동합니다.\n",
    "    driver.switch_to_default_content() \n",
    "    time.sleep(2)"
   ]
  },
  {
   "cell_type": "code",
   "execution_count": 7,
   "metadata": {},
   "outputs": [
    {
     "name": "stdout",
     "output_type": "stream",
     "text": [
      "수집된 게시물 URL 개수 : 45\n"
     ]
    }
   ],
   "source": [
    "# 총 몇개의 게시물 URL이 저장되었는지 확인합니다.\n",
    "print(\"수집된 게시물 URL 개수 :\", len(post_list))"
   ]
  },
  {
   "cell_type": "code",
   "execution_count": 8,
   "metadata": {},
   "outputs": [
    {
     "name": "stdout",
     "output_type": "stream",
     "text": [
      "['https://cafe.naver.com/ca-fe/ArticleRead.nhn?clubid=11262350&page=1&inCafeSearch=true&searchBy=1&query=%EC%B2%AD%EB%B0%94%EC%A7%80&includeAll=&exclude=&include=&exact=&searchdate=all&media=0&sortBy=date&articleid=36096011&referrerAllArticles=true']\n"
     ]
    }
   ],
   "source": [
    "# URL이 잘 저장되어 있는지 인덱싱을 통해 일부만 확인해봅니다.\n",
    "print(post_list[:1])"
   ]
  },
  {
   "cell_type": "code",
   "execution_count": 9,
   "metadata": {},
   "outputs": [
    {
     "name": "stdout",
     "output_type": "stream",
     "text": [
      "https://cafe.naver.com/ca-fe/ArticleRead.nhn?clubid=11262350&page=1&inCafeSearch=true&searchBy=1&query=%EC%B2%AD%EB%B0%94%EC%A7%80&includeAll=&exclude=&include=&exact=&searchdate=all&media=0&sortBy=date&articleid=36096011&referrerAllArticles=true\n"
     ]
    }
   ],
   "source": [
    "print(post_list[0])"
   ]
  },
  {
   "cell_type": "markdown",
   "metadata": {},
   "source": [
    "### 2-3. 게시글 내용 및 댓글 수집"
   ]
  },
  {
   "cell_type": "code",
   "execution_count": 10,
   "metadata": {},
   "outputs": [
    {
     "name": "stdout",
     "output_type": "stream",
     "text": [
      "1/45\r"
     ]
    },
    {
     "name": "stderr",
     "output_type": "stream",
     "text": [
      "<ipython-input-10-04ad9ee120a7>:16: DeprecationWarning: use driver.switch_to.frame instead\n",
      "  driver.switch_to_frame(driver.find_element(By.NAME, \"cafe_main\"))\n",
      "<ipython-input-10-04ad9ee120a7>:49: DeprecationWarning: use driver.switch_to.default_content instead\n",
      "  driver.switch_to_default_content()\n"
     ]
    },
    {
     "name": "stdout",
     "output_type": "stream",
     "text": [
      "5/45\r"
     ]
    }
   ],
   "source": [
    "# 게시물 내용을 저장할 파일을 생성합니다.\n",
    "f = open(SAVE_FILENAME, \"w\", encoding=\"utf-8\")\n",
    "progress = 0\n",
    "\n",
    "# FOR 문을 활용해 페이지 URL을 반복합니다.\n",
    "for url in post_list[:POST_LIMIT]:\n",
    "    # 현재 수집이 진행중인 인덱스를 출력합니다.\n",
    "    progress += 1\n",
    "    print(str(progress) + \"/\" + str(len(post_list)), end=\"\\r\")\n",
    "    \n",
    "    try:\n",
    "        # URL을 통해 게시물 페이지로 이동합니다.\n",
    "        driver.get(url)\n",
    "        time.sleep(5)\n",
    "        # 페이지에서 게시물 내용이 포함된 프레임으로 이동합니다.\n",
    "        driver.switch_to.frame(driver.find_element(By.NAME, \"cafe_main\"))\n",
    "\n",
    "        # 페이지에서 태그의 속성을 활용해 원하는 부분을 불러옵니다.\n",
    "        # 1. 게시물 제목\n",
    "        title = driver.find_element(By.CLASS_NAME, \"title_text\").text.strip()\n",
    "        #title = elem.find_elements(By.TAG_NAME, \"td\")[0].text\n",
    "        # 2. 게시판 이름\n",
    "        board_type = driver.find_element(By.CLASS_NAME, \"link_board\").text.strip()\n",
    "        # 3. 게시물 작성일자\n",
    "        datetime = driver.find_element(By.CLASS_NAME, \"date\").text\n",
    "        # 4. 게시물 작성자(닉네임)\n",
    "        user = driver.find_element(By.CLASS_NAME, \"nickname\").text\n",
    "        # 5. 게시물 내용\n",
    "        # 파일에서 게시물 구분을 줄단위로 하기위해 줄바꿈을 모두 제거합니다.\n",
    "        contents = driver.find_element(By.CLASS_NAME, \"article_viewer\").text.replace(\"\\n\", \" \")\n",
    "        # 파일에 수집한 게시물 내용을 기록합니다.\n",
    "        f.write(\"POSTING\" + \"\\t\" + user + \"\\t\" + datetime + \\\n",
    "                \"\\t\" + board_type + \"\\t\" + title + \"\\t\" + contents + \"\\n\") \n",
    "\n",
    "        # 댓글을 모두 불러옵니다.\n",
    "        reply_list = driver.find_elements(By.CLASS_NAME, \"comment_box\")\n",
    "        # FOR 문을 활용해 댓글을 모두 반복합니다.\n",
    "        for reply in reply_list:\n",
    "            # 6. 댓글 내용\n",
    "            comment = reply.find_element(By.CLASS_NAME, \"text_comment\").text.replace(\"\\n\", \" \")\n",
    "            # 7. 댓글 작성자(닉네임)\n",
    "            user_nik = reply.find_element(By.CLASS_NAME, \"comment_nickname\").text\n",
    "            # 8. 댓글 작성일자\n",
    "            reply_date = reply.find_element(By.CLASS_NAME, \"comment_info_date\").text\n",
    "            # 파일에 수집한 댓글 내용을 기록합니다.\n",
    "            f.write(\"COMMENT\" + \"\\t\" + user_nik + \"\\t\" + reply_date + \\\n",
    "                    \"\\t\" + board_type + \"\\t\" + \"None\" + \"\\t\" + comment + \"\\n\")\n",
    "        # 페이지의 기본 프레임으로 이동합니다.\n",
    "        driver.switch_to.default_content()\n",
    "        time.sleep(2)\n",
    "    except:\n",
    "        driver.switch_to.default_content()\n",
    "        time.sleep(2)\n",
    "        continue\n",
    "f.close()"
   ]
  },
  {
   "cell_type": "code",
   "execution_count": 11,
   "metadata": {},
   "outputs": [],
   "source": [
    "# Chrome Driver를 닫습니다.\n",
    "driver.close()"
   ]
  },
  {
   "cell_type": "code",
   "execution_count": 12,
   "metadata": {
    "scrolled": true
   },
   "outputs": [
    {
     "name": "stdout",
     "output_type": "stream",
     "text": [
      "POSTING\t백구윈터\t2021.10.02. 19:56\t■디매인 라이프■\t문제의 와이드 청바지 반품 신청했습니다\t많은 분들의 피드백 반영하여 결국엔 반품 선택했습니다 와이드팬츠 소화하기 어렵네여\n",
      "COMMENT\t당근죠스\t2021.10.02. 20:15\t■디매인 라이프■\tNone\t아무리 봐도 전 이쁘던데,, 아쉽네여\n",
      "COMMENT\t백구윈터\t2021.10.02. 20:40\t■디매인 라이프■\tNone\t호불호가 심하면 그냥 보내주는 게 나은거 같습니다...\n",
      "POSTING\t백구윈터\t2021.10.02. 19:26\t■디매인 라이프■\t문제의 청바지 입고 다시 코디해봤습니다\t이렇게 코디해도 별론가요?  그럼 고민 없이 반품하겠습니다 ㅜㅜ\n",
      "COMMENT\t로건 리\t2021.10.02. 19:27\t■디매인 라이프■\tNone\t바지 보내주세요 그냥\n",
      "COMMENT\t백구윈터\t2021.10.02. 19:27\t■디매인 라이프■\tNone\t허헉\n",
      "COMMENT\t걷기대장\t2021.10.02. 19:28\t■디매인 라이프■\tNone\t젊은 느낌으로 와이드 사신것 같은데 ㅠ 그냥 보내주세요 ㅠ\n",
      "COMMENT\t백구윈터\t2021.10.02. 19:28\t■디매인 라이프■\tNone\t반품 신청 들어갑니다\n",
      "COMMENT\t187kg\t2021.10.02. 19:29\t■디매인 라이프■\tNone\t신발 컨버스처럼 낮은거 신고 덮으면 이쁠거같은대요?? 전글보고왔는데 안이상한데..\n",
      "COMMENT\t백구윈터\t2021.10.02. 19:30\t■디매인 라이프■\tNone\t허어 고민되네요 ㅠㅠ\n",
      "COMMENT\t백구윈터\t2021.10.02. 19:30\t■디매인 라이프■\tNone\t컨버스 신고 다시 찍어볼게요 잠시만여\n",
      "COMMENT\t백구윈터\t2021.10.02. 19:32\t■디매인 라이프■\tNone\n",
      "COMMENT\t187kg\t2021.10.02. 19:33\t■디매인 라이프■\tNone\t아 근데 길이도 좀 긴거같긴하네요 ㅠㅠ 밑단 넓이도 그렇게 안넓어서 덮히지도 않는거같구 ㅠㅠ\n",
      "COMMENT\t187kg\t2021.10.02. 19:34\t■디매인 라이프■\tNone\t기장 좀만 짧았으면 이뻤을거같아요\n",
      "COMMENT\t백구윈터\t2021.10.02. 19:35\t■디매인 라이프■\tNone\t고냥 반품합니다 ㅎㅎ 감사합니다\n",
      "COMMENT\t안녕하세요0\t2021.10.02. 19:29\t■디매인 라이프■\tNone\t저 바지 좋아하시는 것 같은데 상의 아예 더 큰거 없나요? 그거 입어보시죠 ㄱㄱ\n",
      "COMMENT\t백구윈터\t2021.10.02. 19:30\t■디매인 라이프■\tNone\t없습니당 원래 와이드 바지 안 입는데 예뻐 보여서 첨으루 산거예용\n",
      "COMMENT\t응구라야\t2021.10.02. 19:30\t■디매인 라이프■\tNone\t반품요ㅠㅠ\n",
      "COMMENT\t백구윈터\t2021.10.02. 19:32\t■디매인 라이프■\tNone\t네 구라 성림 걍 반품해야겠읍니다..\n",
      "COMMENT\t유유\t2021.10.02. 19:31\t■디매인 라이프■\tNone\t신발이 문제입니다 컨버스로 가세요\n",
      "COMMENT\t백구윈터\t2021.10.02. 19:32\t■디매인 라이프■\tNone\n",
      "COMMENT\t유유\t2021.10.02. 19:34\t■디매인 라이프■\tNone\t훨씬 낫네요. 혹 이너티 흰색레이어드 할 수 있으면 해보시는 것도 추천드립니다. 아미 맨투맨 밑단 밖으로 한 단정도 빠져나오게요. 그리고 볼캡 쓰시면 훨씬 조화로워질 거예요.\n",
      "COMMENT\t백구윈터\t2021.10.02. 19:35\t■디매인 라이프■\tNone\t바지 근데 반품해야 될거 같은데요 ㅜㅜ 돌을 너무 맞아서\n",
      "COMMENT\t유유\t2021.10.02. 19:39\t■디매인 라이프■\tNone\t농담 아니고 진짜 괜찮은데요? 크롭기장이 요샌 더 촌스러운건데 기장 얘기가 많네요\n",
      "COMMENT\t백구윈터\t2021.10.02. 19:39\t■디매인 라이프■\tNone\t기장이 살짝 긴가봐여\n",
      "COMMENT\t유유\t2021.10.02. 19:41\t■디매인 라이프■\tNone\t으음 아무튼 저는 괜찮아 보이는데 입고 안 입고은 백구님의 선택이시니ㅋㅋ\n",
      "COMMENT\t백구윈터\t2021.10.02. 19:43\t■디매인 라이프■\tNone\t반응이 이렇게 엇갈리면 반품 쪽이 더 낫져 반품 신청했습니다 ㅎㅎ\n",
      "COMMENT\t빱바밤\t2021.10.02. 19:33\t■디매인 라이프■\tNone\t전 괜찮은디,,,ㅜ\n",
      "COMMENT\t백구윈터\t2021.10.02. 19:33\t■디매인 라이프■\tNone\t별로라는 분이 더 많으셔서 반품해야 할거 같아요 ㅎㅎ\n",
      "COMMENT\tDMKB\t2021.10.02. 19:36\t■디매인 라이프■\tNone\t바지 무신사 가보니까 후기 2만개 넘고 평 다좋은 바지인데\n",
      "COMMENT\t백구윈터\t2021.10.02. 19:38\t■디매인 라이프■\tNone\t맞아여 ㅠㅠ ㅂㄹㄷㄷ 1899 모델이에여\n",
      "COMMENT\t관상가 양반님\t2021.10.02. 19:36\t■디매인 라이프■\tNone\t바지 밑단만 자르고 신발 컨버스 신으면 ㄱㅊ을 거같아영\n",
      "COMMENT\t반박시니말이맞음\t2021.10.02. 19:37\t■디매인 라이프■\tNone\t형 아무리 와이드라도 이건 아니야\n",
      "COMMENT\t백구윈터\t2021.10.02. 19:38\t■디매인 라이프■\tNone\t반품 들어갑니다\n",
      "COMMENT\tX and Y\t2021.10.02. 19:37\t■디매인 라이프■\tNone\t포스 싫어하는 사람들의 이유가 명확히 보이는군요.\n",
      "COMMENT\t강알리덩킨더나쓰\t2021.10.02. 19:54\t■디매인 라이프■\tNone\t저만 괜찮아보이나요..?? 포스 컨버스 다 이쁜더같은뎅\n",
      "COMMENT\t백구윈터\t2021.10.02. 19:55\t■디매인 라이프■\tNone\t반품 신청했습니다 ㅠㅠ\n",
      "COMMENT\t돌돌블\t2021.10.02. 20:01\t■디매인 라이프■\tNone\t좋은데.. 품명 알 수 있을까요?\n",
      "COMMENT\t백구윈터\t2021.10.02. 20:05\t■디매인 라이프■\tNone\tㅂㄹㄷㄷ 1899입니다\n",
      "COMMENT\t달매\t2021.10.02. 20:13\t■디매인 라이프■\tNone\t괜춘한데용\n",
      "COMMENT\t백구윈터\t2021.10.02. 20:39\t■디매인 라이프■\tNone\t그냥 보냈어용...\n",
      "COMMENT\t아리하라 미유키\t2021.10.02. 20:23\t■디매인 라이프■\tNone\t아니 그냥 보내세요 90년대 힙합바지같아요\n",
      "COMMENT\t백구윈터\t2021.10.02. 20:39\t■디매인 라이프■\tNone\t보냈읍니다...\n",
      "COMMENT\t키타1\t2021.10.02. 22:05\t■디매인 라이프■\tNone\t상의 문제같은데...\n",
      "COMMENT\t백구윈터\t2021.10.02. 22:41\t■디매인 라이프■\tNone\t바지 문제는 아니구요? 바지 사이즈는 괜찮아 보이나요 ㅠㅠ\n",
      "COMMENT\t키타1\t2021.10.02. 22:55\t■디매인 라이프■\tNone\t바지는 원래 와이드핏 저렇게 나오는거에요 상의 밑단 시보리도 안접고 저러면 다 이상할걸요\n",
      "COMMENT\tJoon2007\t2021.10.02. 22:46\t■디매인 라이프■\tNone\t디매 스타일은 아니지만 전 괜찮아 보이네요. 와이드 청바지 자주 입는데 저 정도면 안 이상한데요??저거보다 훨씬 와이드 한 것도 많은데...\n",
      "COMMENT\t트리플K\t2021.10.02. 22:51\t■디매인 라이프■\tNone\t애초에 아미 빅로고랑 저 바지랑 안어울림,,차라리 슬랙스랑 입으셔야죠\n",
      "COMMENT\t차선변경할땐깜빡이\t2021.10.02. 22:56\t■디매인 라이프■\tNone\t지금 예쁜데요?\n",
      "POSTING\tBOA\t2021.10.02. 18:07\t■디매인 라이프■\t이 청바지에 신발 뭐가 괜찮을까요??\t어떤 종류의 신발이 좋을까요..? 도움 부탁드립니다\n",
      "COMMENT\t별이뜨는밤술\t2021.10.02. 18:08\t■디매인 라이프■\tNone\t속이 비쳐보이는 나시~ 아저씨 전용 + 밀짚모자\n",
      "COMMENT\t164cm\t2021.10.02. 18:10\t■디매인 라이프■\tNone\t쪼리같은 가벼운 신발?\n",
      "COMMENT\tFlonvero\t2021.10.02. 18:24\t■디매인 라이프■\tNone\t마틴이죠\n",
      "POSTING\t스치면슨다\t2021.10.02. 12:35\t■디매인 라이프■\t청바지입고 헬스장에서 운동하는 분 계심요\t왜 그럴까요  기본적인tpo는 맞쳐야 하는거 아닌가 ㄷㄷ\n",
      "COMMENT\t좋좋소\t2021.10.02. 12:38\t■디매인 라이프■\tNone\t신사 ㄷㄷ\n",
      "COMMENT\t단 비\t2021.10.02. 12:41\t■디매인 라이프■\tNone\t대단..\n",
      "COMMENT\tjeongpro\t2021.10.02. 12:50\t■디매인 라이프■\tNone\t패셔니스타\n",
      "COMMENT\t초코는\t2021.10.02. 13:43\t■디매인 라이프■\tNone\t+백팩 매고 러닝머신 하시는분 도 봤어요...\n",
      "POSTING\tDdll\t2021.10.02. 09:10\t■디매인 라이프■\t흰티 청바지에 이 벨트 ㄱㄴ입니까?\t바지는 테이퍼드 입니다\n",
      "COMMENT\t아 스 날\t2021.10.02. 09:11\t■디매인 라이프■\tNone\t가능\n",
      "COMMENT\t이에스티제이\t2021.10.02. 09:12\t■디매인 라이프■\tNone\t개인적으로 너무 싫은데요ㅠ\n",
      "COMMENT\t한맹자\t2021.10.02. 09:15\t■디매인 라이프■\tNone\t전 싫어효,,\n"
     ]
    }
   ],
   "source": [
    "# 파일에 저장된 카페 게시글 내용을 확인합니다.\n",
    "f = open(SAVE_FILENAME, encoding=\"utf-8\")\n",
    "for post in f:\n",
    "    print(post.strip())\n",
    "f.close()"
   ]
  },
  {
   "cell_type": "code",
   "execution_count": null,
   "metadata": {},
   "outputs": [],
   "source": []
  }
 ],
 "metadata": {
  "kernelspec": {
   "display_name": "Python 3",
   "language": "python",
   "name": "python3"
  },
  "language_info": {
   "codemirror_mode": {
    "name": "ipython",
    "version": 3
   },
   "file_extension": ".py",
   "mimetype": "text/x-python",
   "name": "python",
   "nbconvert_exporter": "python",
   "pygments_lexer": "ipython3",
   "version": "3.8.3"
  }
 },
 "nbformat": 4,
 "nbformat_minor": 2
}
