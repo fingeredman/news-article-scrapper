{
 "cells": [
  {
   "cell_type": "markdown",
   "metadata": {},
   "source": [
    "# `TEANAPS` NEWS ARTICLE SCRAPPER\n",
    "- 본 자료는 텍스트 마이닝을 활용한 연구 및 강의를 위한 목적으로 제작되었습니다.\n",
    "- 본 자료를 강의 목적으로 활용하고자 하시는 경우 꼭 아래 메일주소로 연락주세요.\n",
    "- 본 자료에 대한 허가되지 않은 배포를 금지합니다.\n",
    "- 강의, 저작권, 출판, 특허, 공동저자에 관련해서는 문의 바랍니다.\n",
    "- **Contact : ADMIN(admin@teanaps.com)**\n",
    "\n",
    "---"
   ]
  },
  {
   "cell_type": "markdown",
   "metadata": {},
   "source": [
    "> **\\*\\*\\* 주의사항 \\*\\*\\***  \n",
    "본 자료에서 설명하는 웹크롤링하는 방법은 해당 기법에 대한 이해를 돕고자하는 교육과 이를 활용한 연구 목적으로 사용되었으며, 대량의 무단 크롤링 및 상업적 활용을 금합니다."
   ]
  },
  {
   "cell_type": "markdown",
   "metadata": {},
   "source": [
    "## 1. 데이터 수집 준비하기"
   ]
  },
  {
   "cell_type": "markdown",
   "metadata": {},
   "source": [
    "### 1-1. Selenium 라이브러리 설치"
   ]
  },
  {
   "cell_type": "code",
   "execution_count": 1,
   "metadata": {},
   "outputs": [],
   "source": [
    "# 가상의 브라우저를 컨트롤 할 수 있도록 도와주는 selenium 패키지를 설치합니다.\n",
    "# 아래 주석을 해지하고 셀을 실행합니다.\n",
    "# 설치는 한번만 수행하면 되며, 재설치시 Requirement already satisfied: ~ 라는 메시지가 출력됩니다.\n",
    "\n",
    "#!pip install selenium"
   ]
  },
  {
   "cell_type": "markdown",
   "metadata": {},
   "source": [
    "### 1-2. Chrome Driver 다운로드 및 경로설정\n",
    "\n",
    "- Chrome Driver 다운로드 URL : http://chromedriver.chromium.org/downloads"
   ]
  },
  {
   "cell_type": "code",
   "execution_count": 2,
   "metadata": {},
   "outputs": [],
   "source": [
    "# 본 Jupyter Notebook 파일과 동일한 경로에 Chrome Driver가 존재하는 경우 아래 경로를 그대로 사용합니다.\n",
    "\n",
    "# Windows 운영체제\n",
    "#DRIVER_PATH = \"chromedriver.exe\"\n",
    "\n",
    "# MAC, Linux 운영체제\n",
    "# - 경고메시지 출력 시 보안 및 개인정보보호 메뉴에서 \"확인없이 허용\" 클릭 필요함\n",
    "DRIVER_PATH = \"./chromedriver\""
   ]
  },
  {
   "cell_type": "markdown",
   "metadata": {},
   "source": [
    "### 1-3. 라이브러리 Import 및 Chrome Driver 실행"
   ]
  },
  {
   "cell_type": "code",
   "execution_count": 3,
   "metadata": {},
   "outputs": [],
   "source": [
    "# Python 코드를 통해 가상의 브라우저를 띄우기 위해 selenium 패키지를 import 합니다.\n",
    "import selenium\n",
    "from selenium import webdriver\n",
    "from selenium.webdriver.common.by import By\n",
    "\n",
    "# selenium을 활용해 브라우저를 직접 띄우는 경우, 실제 웹서핑을 할때처럼 로딩시간이 필요합니다.\n",
    "# 로딩시간 동안 대기하도록 코드를 구성하기위해 time 패키지를 import 합니다.\n",
    "import time\n",
    "\n",
    "# Python 코드를 통해 웹페이지에 정보를 요청하기 위해 BeautifulSoup, urllib 패키지를 import 합니다.\n",
    "from bs4 import BeautifulSoup\n",
    "import requests"
   ]
  },
  {
   "cell_type": "code",
   "execution_count": 4,
   "metadata": {},
   "outputs": [],
   "source": [
    "# 브라우저에 임의로 User-agent 옵션을 넣어 Python 코드로 접속함을 숨깁니다.\n",
    "chrome_options = webdriver.ChromeOptions()\n",
    "chrome_options.add_argument('--user-agent=\"Mozilla/5.0 (Macintosh; Intel Mac OS X 10_13_4) AppleWebKit/537.36 (KHTML, like Gecko) Chrome/66.0.3359.139 Safari/537.36\"')\n",
    "# Chrome Driver를 호출합니다.\n",
    "driver = webdriver.Chrome(executable_path = DRIVER_PATH, options=chrome_options)"
   ]
  },
  {
   "cell_type": "markdown",
   "metadata": {},
   "source": [
    "## 2. 카페 게시글 및 댓글 수집하기\n",
    "\n",
    "---"
   ]
  },
  {
   "cell_type": "markdown",
   "metadata": {},
   "source": [
    "### 2-1. 카페 검색결과 정보 입력"
   ]
  },
  {
   "cell_type": "code",
   "execution_count": 5,
   "metadata": {},
   "outputs": [],
   "source": [
    "# 수집할 카페 검색결과 정보를 입력합니다.\n",
    "                                  # 네이버 카페에서 게시글을 검색하고 검색결과 URL을 입력합니다.\n",
    "                                  # URL은 네이버 카페에서 게시글 검색 후 검색결과 페이지 번호의 링크를 복사하여 찾을 수 있습니다.\n",
    "                                  # 전체 URL에서 맨 뒤 페이지 번호는 제거하고 입력합니다. (URL = \"~search.page=\")\n",
    "URL = \"https://cafe.naver.com/dieselmania?iframe_url=/ArticleSearchList.nhn%3Fsearch.clubid=11262350%26search.media=0%26search.searchdate=all%26userDisplay=15%26search.option=0%26search.sortBy=date%26search.searchBy=0%26search.query=%C3%BB%B9%D9%C1%F6%26search.viewtype=title%26search.page=\"\n",
    "PAGE_LIMIT = 3                    # 검색결과 중 수집할 최대 페이지 수를 입력합니다. (검색결과 페이지 수 보다 적게 입력)\n",
    "POST_LIMIT = 5                    # 수집할 최대 게시글 수를 입력합니다.\n",
    "SAVE_FILENAME = \"cafe_post.txt\"   # 수집결과를 저장할 파일명을 입력합니다."
   ]
  },
  {
   "cell_type": "markdown",
   "metadata": {},
   "source": [
    "### 2-2. 검색결과 게시글 URL 수집"
   ]
  },
  {
   "cell_type": "code",
   "execution_count": 6,
   "metadata": {},
   "outputs": [],
   "source": [
    "# 수집할 카페 게시물의 링크주소를 저장할 리스트를 생성합니다.\n",
    "post_list = []\n",
    "\n",
    "# FOR 문을 활용해 페이지 번호를 반복합니다.\n",
    "for page_num in range(1, PAGE_LIMIT+1):\n",
    "    # 검색결과 페이지로 이동합니다.\n",
    "    driver.get(URL + str(page_num))\n",
    "    # 페이지에서 게시물 리스트가 포함된 프레임으로 이동합니다.\n",
    "    driver.switch_to.frame(driver.find_element(By.NAME, \"cafe_main\"))\n",
    "    # 게시물 태그를 모두 불러옵니다.\n",
    "    elem = driver.find_elements(By.CLASS_NAME, \"article\")\n",
    "    for e in elem:\n",
    "        # 웹페이지의 하이퍼링크 URL은 항상 href 속성에 존재합니다.\n",
    "        # href 속성에 저장된 URL을 불러와 post_list에 추가합니다.\n",
    "        post_list.append(e.get_attribute(\"href\"))\n",
    "    # 아래 주석부분은 위 25~29번째 라인과 동일한 코드입니다.\n",
    "    # 혹시 post_list에 URL이 저장되지 않는 경우 아래처럼 태그의 Class 속성을 \"article\"에서 \"aaa\"로 변경해줍니다.\n",
    "    '''\n",
    "    elem = driver.find_elements(By.CLASS_NAME, \"aaa\")\n",
    "    for e in elem:\n",
    "        post_list.append(e.find_element(By.TAG_NAME, \"a\").get_attribute(\"href\"))\n",
    "    '''\n",
    "    # 페이지의 기본 프레임으로 이동합니다.\n",
    "    driver.switch_to.default_content() \n",
    "    time.sleep(2)"
   ]
  },
  {
   "cell_type": "code",
   "execution_count": 7,
   "metadata": {},
   "outputs": [
    {
     "name": "stdout",
     "output_type": "stream",
     "text": [
      "수집된 게시물 URL 개수 : 45\n"
     ]
    }
   ],
   "source": [
    "# 총 몇개의 게시물 URL이 저장되었는지 확인합니다.\n",
    "print(\"수집된 게시물 URL 개수 :\", len(post_list))"
   ]
  },
  {
   "cell_type": "code",
   "execution_count": 8,
   "metadata": {},
   "outputs": [
    {
     "name": "stdout",
     "output_type": "stream",
     "text": [
      "['https://cafe.naver.com/ca-fe/ArticleRead.nhn?clubid=11262350&page=1&inCafeSearch=true&searchBy=1&query=%EC%B2%AD%EB%B0%94%EC%A7%80&includeAll=&exclude=&include=&exact=&searchdate=all&media=0&sortBy=date&articleid=36229513&referrerAllArticles=true']\n"
     ]
    }
   ],
   "source": [
    "# URL이 잘 저장되어 있는지 인덱싱을 통해 일부만 확인해봅니다.\n",
    "print(post_list[:1])"
   ]
  },
  {
   "cell_type": "code",
   "execution_count": 9,
   "metadata": {},
   "outputs": [
    {
     "name": "stdout",
     "output_type": "stream",
     "text": [
      "https://cafe.naver.com/ca-fe/ArticleRead.nhn?clubid=11262350&page=1&inCafeSearch=true&searchBy=1&query=%EC%B2%AD%EB%B0%94%EC%A7%80&includeAll=&exclude=&include=&exact=&searchdate=all&media=0&sortBy=date&articleid=36229513&referrerAllArticles=true\n"
     ]
    }
   ],
   "source": [
    "print(post_list[0])"
   ]
  },
  {
   "cell_type": "markdown",
   "metadata": {},
   "source": [
    "### 2-3. 게시글 내용 및 댓글 수집"
   ]
  },
  {
   "cell_type": "code",
   "execution_count": 10,
   "metadata": {},
   "outputs": [
    {
     "name": "stdout",
     "output_type": "stream",
     "text": [
      "5/45\r"
     ]
    }
   ],
   "source": [
    "# 게시물 내용을 저장할 파일을 생성합니다.\n",
    "f = open(SAVE_FILENAME, \"w\", encoding=\"utf-8\")\n",
    "progress = 0\n",
    "\n",
    "# FOR 문을 활용해 페이지 URL을 반복합니다.\n",
    "for url in post_list[:POST_LIMIT]:\n",
    "    # 현재 수집이 진행중인 인덱스를 출력합니다.\n",
    "    progress += 1\n",
    "    print(str(progress) + \"/\" + str(len(post_list)), end=\"\\r\")\n",
    "    \n",
    "    try:\n",
    "        # URL을 통해 게시물 페이지로 이동합니다.\n",
    "        driver.get(url)\n",
    "        time.sleep(5)\n",
    "        # 페이지에서 게시물 내용이 포함된 프레임으로 이동합니다.\n",
    "        driver.switch_to.frame(driver.find_element(By.NAME, \"cafe_main\"))\n",
    "\n",
    "        # 페이지에서 태그의 속성을 활용해 원하는 부분을 불러옵니다.\n",
    "        # 1. 게시물 제목\n",
    "        title = driver.find_element(By.CLASS_NAME, \"title_text\").text.strip()\n",
    "        #title = elem.find_elements(By.TAG_NAME, \"td\")[0].text\n",
    "        # 2. 게시판 이름\n",
    "        board_type = driver.find_element(By.CLASS_NAME, \"link_board\").text.strip()\n",
    "        # 3. 게시물 작성일자\n",
    "        datetime = driver.find_element(By.CLASS_NAME, \"date\").text\n",
    "        # 4. 게시물 작성자(닉네임)\n",
    "        user = driver.find_element(By.CLASS_NAME, \"nickname\").text\n",
    "        # 5. 게시물 내용\n",
    "        # 파일에서 게시물 구분을 줄단위로 하기위해 줄바꿈을 모두 제거합니다.\n",
    "        contents = driver.find_element(By.CLASS_NAME, \"article_viewer\").text.replace(\"\\n\", \" \")\n",
    "        # 파일에 수집한 게시물 내용을 기록합니다.\n",
    "        f.write(\"POSTING\" + \"\\t\" + user + \"\\t\" + datetime + \\\n",
    "                \"\\t\" + board_type + \"\\t\" + title + \"\\t\" + contents + \"\\n\") \n",
    "\n",
    "        # 댓글을 모두 불러옵니다.\n",
    "        reply_list = driver.find_elements(By.CLASS_NAME, \"comment_box\")\n",
    "        # FOR 문을 활용해 댓글을 모두 반복합니다.\n",
    "        for reply in reply_list:\n",
    "            # 6. 댓글 내용\n",
    "            comment = reply.find_element(By.CLASS_NAME, \"text_comment\").text.replace(\"\\n\", \" \")\n",
    "            # 7. 댓글 작성자(닉네임)\n",
    "            user_nik = reply.find_element(By.CLASS_NAME, \"comment_nickname\").text\n",
    "            # 8. 댓글 작성일자\n",
    "            reply_date = reply.find_element(By.CLASS_NAME, \"comment_info_date\").text\n",
    "            # 파일에 수집한 댓글 내용을 기록합니다.\n",
    "            f.write(\"COMMENT\" + \"\\t\" + user_nik + \"\\t\" + reply_date + \\\n",
    "                    \"\\t\" + board_type + \"\\t\" + \"None\" + \"\\t\" + comment + \"\\n\")\n",
    "        # 페이지의 기본 프레임으로 이동합니다.\n",
    "        driver.switch_to.default_content()\n",
    "        time.sleep(2)\n",
    "    except:\n",
    "        driver.switch_to.default_content()\n",
    "        time.sleep(2)\n",
    "        continue\n",
    "f.close()"
   ]
  },
  {
   "cell_type": "code",
   "execution_count": 11,
   "metadata": {},
   "outputs": [],
   "source": [
    "# Chrome Driver를 닫습니다.\n",
    "driver.close()"
   ]
  },
  {
   "cell_type": "code",
   "execution_count": 12,
   "metadata": {
    "scrolled": true
   },
   "outputs": [
    {
     "name": "stdout",
     "output_type": "stream",
     "text": [
      "POSTING\t쓱빡\t2021.10.16. 22:19\t디매인 패션\t청바지 기장수선 추천 부탁드립니다.\t기존에 있던 청바지 싹다 버리고 오늘 리바이스 매장가서 청바지 3개 구입했습니다. 슬랙스는 복숭아뼈 반정도까지 수선해서 입었는데 청바지는 어떻게 입을지 감이 안오네요. 롤업해서 입기는 싫은데 복숭아뼈덮을정도까지만 수선하면 될까요?  그리고 집와서 보니 두번째 사진처럼 스티치중간에 끊어져있는게 교환각이겠죠?ㅜ\n",
      "COMMENT\t쮾\t2021.10.16. 22:22\t디매인 패션\tNone\t핏마다 달라요 세미오버면 기장 좀 길게\n",
      "POSTING\t욕구시타리아\t2021.10.16. 19:30\t■디매인 라이프■\t아재 요즘 청바지에 맛들렸습니다..(오어슬로우 201 2years, LVC47501)\t왼쪽 lvc 47501 리지드 오른쪽 오어슬로우201 2years lvc 리지드의 경우 소킹하는 재미도 알아버렷고 오어슬로우의 경우 색감이나 워싱등에 홀려서 질러부렸네요 유니클로 셀비지랑 외관상 큰 차이가 없어서 자기만족이긴 한데 계속 사고싶습니다 ㅠ\n",
      "COMMENT\t볼빵빵사춘기\t2021.10.16. 19:30\t■디매인 라이프■\tNone\t개이쁘네요..\n",
      "COMMENT\t범어역11번출구\t2021.10.16. 19:32\t■디매인 라이프■\tNone\t47501 넘 예뻐요. 신사동 가면 꼭 입어보고 사려고여.\n",
      "COMMENT\t욕구시타리아\t2021.10.16. 19:34\t■디매인 라이프■\tNone\t최고입니다 입문을 47501로 한거 최고의 선택ㅋㅋ\n",
      "COMMENT\t알수있는 사용자\t2021.10.16. 19:33\t■디매인 라이프■\tNone\t우측 넘이쁘네용,\n",
      "COMMENT\t머틀그린\t2021.10.16. 19:38\t■디매인 라이프■\tNone\t전 54501로 ㅎㅎ\n",
      "COMMENT\t쓴커피\t2021.10.16. 19:45\t■디매인 라이프■\tNone\t왼쪽이뻐요 .. 사고싶어효\n",
      "POSTING\tThe Stranger\t2021.10.16. 17:16\t■디매인 라이프■\t신발 청바지 물 든거 어떻게 지우나요?ㅠㅠㅠㅠ\t힐쪽에 청바지 물들어버렸는데요...어떠케지웁니까?ㅠㅠ 조던1 쉐도우 2.0이에요..\n",
      "COMMENT\t오 리\t2021.10.16. 17:18\t■디매인 라이프■\tNone\t어쩔수없을걸요 생지들은 이염이..\n",
      "COMMENT\tThe Stranger\t2021.10.16. 17:24\t■디매인 라이프■\tNone\t지울수는 없는건가요....?ㅠㅠ\n",
      "COMMENT\t레 몬\t2021.10.16. 18:04\t■디매인 라이프■\tNone\t부드러운 지우개로 살살\n",
      "COMMENT\tThe Stranger\t2021.10.16. 18:18\t■디매인 라이프■\tNone\t메모..\n",
      "COMMENT\t디 젤 매 니 아 인\t2021.10.16. 18:48\t■디매인 라이프■\tNone\t인디고는 한 번 물들면 못 지운다고 생각하셔야…\n",
      "COMMENT\tThe Stranger\t2021.10.16. 20:02\t■디매인 라이프■\tNone\tㅜㅜ 힝입니다힝\n",
      "POSTING\t디매왜함\t2021.10.16. 15:21\t■디매인 라이프■\t오늘 대전 청바지 린넨셔츠 출격 가능한가요??\t추워디짐??\n",
      "COMMENT\t브레드이발소\t2021.10.16. 15:23\t■디매인 라이프■\tNone\t디질정도는 아닌데 춥긴추워요\n",
      "COMMENT\t하루종일자고싶다\t2021.10.16. 15:23\t■디매인 라이프■\tNone\t외투걸치기 좋은날씨\n",
      "COMMENT\tsystem40\t2021.10.16. 15:24\t■디매인 라이프■\tNone\t추워요\n",
      "COMMENT\t패 션 프 루 트\t2021.10.16. 15:27\t■디매인 라이프■\tNone\t감기 그리우면 출격 가능\n",
      "POSTING\t깊\t2021.10.16. 15:00\t디매인 고민-상담\t남자 슬랙스, 청바지 브랜드 추천\t키 170/58키로.. 키작고 마른데 허리도 얇아서 둘레가 38정도 인데 혹시 추천받을 수 있나요 브랜드..\n",
      "COMMENT\tPIECEMINUSONE\t2021.10.16. 15:01\t디매인 고민-상담\tNone\t플랙\n",
      "COMMENT\tA공기B\t2021.10.16. 15:02\t디매인 고민-상담\tNone\t슬랙스- 레가시 청바지-피스워커? 근데 청바지는 매장에서 직접 보고 입어보시는게 나은것 같아요\n"
     ]
    }
   ],
   "source": [
    "# 파일에 저장된 카페 게시글 내용을 확인합니다.\n",
    "f = open(SAVE_FILENAME, encoding=\"utf-8\")\n",
    "for post in f:\n",
    "    print(post.strip())\n",
    "f.close()"
   ]
  },
  {
   "cell_type": "code",
   "execution_count": null,
   "metadata": {},
   "outputs": [],
   "source": []
  }
 ],
 "metadata": {
  "kernelspec": {
   "display_name": "Python 3",
   "language": "python",
   "name": "python3"
  },
  "language_info": {
   "codemirror_mode": {
    "name": "ipython",
    "version": 3
   },
   "file_extension": ".py",
   "mimetype": "text/x-python",
   "name": "python",
   "nbconvert_exporter": "python",
   "pygments_lexer": "ipython3",
   "version": "3.8.3"
  }
 },
 "nbformat": 4,
 "nbformat_minor": 2
}
